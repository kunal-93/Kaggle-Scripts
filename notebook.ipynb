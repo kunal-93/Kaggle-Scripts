{
  "cells": [
    {
      "metadata": {
        "_cell_guid": "8785f7a6-bfda-4630-b16d-fd846e4f79e6",
        "_uuid": "054f4e16348d79a22e2e55a43f70196abe03658d"
      },
      "cell_type": "markdown",
      "source": "In this Notebook, I plan to study, analyse data sets provided to us and find patterns and relations with respect to our target ( Item Sales). Structure of this EDA is as follows:\n\n 1. **Data Loading**: Loading Data into Pandas Dataframes \n 2. **Work-Flow Goals** : \n1.       **Correlation**: FInd Correlation between target and other features.(It requires creating, completing or correcting features in advance)\n1.          **Conversion**: This includes preparation of data i.e. converting features into numerical equivalent value\n1.          **Completion**: Completing missing values within a feature\n1.          **Correction**: correct possibly incorrect values or exclude samples containing errors\n\n\nLets start with loading Data, I will work on  Training data first, then I plan to explore the additional data sets provided."
    },
    {
      "metadata": {
        "collapsed": true,
        "_cell_guid": "081eba12-f38f-4143-a7b7-25affb1cc9bd",
        "_uuid": "1aa36cf739454717ad56f67f5b891418224535cd",
        "trusted": false
      },
      "cell_type": "code",
      "source": "#necessary modules\nimport numpy as np\nimport pandas as pd\nimport matplotlib.pyplot as plt\nimport seaborn as sns",
      "execution_count": 1,
      "outputs": []
    },
    {
      "metadata": {
        "collapsed": true,
        "_cell_guid": "c9b36068-10d6-4253-933b-4f0097265485",
        "_uuid": "3eb266db1e5a2c14105bf3aa60a97759bffcd98f",
        "trusted": false
      },
      "cell_type": "code",
      "source": "#loading Data into DataFrames\ntrain_df = pd.read_csv('../input/train.csv')\nprint(train_df.shape)\ntrain_df.head()",
      "execution_count": 2,
      "outputs": []
    },
    {
      "metadata": {
        "_cell_guid": "5f71dc8d-53a8-47c3-8284-d2fd54052b2c",
        "_uuid": "2d9ce7b297eed7af53a1b9c756979c58b8923291"
      },
      "cell_type": "markdown",
      "source": "Lets start studying each feature one by one."
    },
    {
      "metadata": {
        "collapsed": true,
        "_cell_guid": "e45aa9b7-ec6d-47a7-bce7-98fcedc06f9b",
        "_uuid": "089aee4bc559888f4755956c74822c1c9876aaba",
        "trusted": false
      },
      "cell_type": "code",
      "source": "#let us start with time range(years) in data\ntrain_df['date'] = pd.to_datetime(train_df['date'])\ntrain_df['date'].dt.year.unique()",
      "execution_count": 3,
      "outputs": []
    },
    {
      "metadata": {
        "_cell_guid": "25eb2782-b59c-4a65-9818-bb7d246aa79e",
        "_uuid": "b33de9fae013d650aa0eb4edbcf1c4e31cdb6ba9"
      },
      "cell_type": "markdown",
      "source": "Training data is collected from year 2013 to 2017. Let us start by indexing our dataframe by year"
    },
    {
      "metadata": {
        "collapsed": true,
        "_cell_guid": "09ca6d64-aeeb-4d24-ad4d-a484f30c5557",
        "_uuid": "50d191c3d80a19502824510be661bbfd26a198fe",
        "trusted": false
      },
      "cell_type": "code",
      "source": "train_df['date'].dt.year.value_counts().plot.bar()\n",
      "execution_count": 4,
      "outputs": []
    },
    {
      "metadata": {
        "collapsed": true,
        "_cell_guid": "b1f9ab53-f239-45db-aa05-9d102b9f20b9",
        "_uuid": "ea860ae55b25658f69e6973a4a4546560dd256d9",
        "trusted": false
      },
      "cell_type": "code",
      "source": "train_df[train_df['date'].dt.year==2016].shape",
      "execution_count": 5,
      "outputs": []
    },
    {
      "metadata": {
        "collapsed": true,
        "_cell_guid": "7bfcc62c-4cd7-4d33-80bd-b90a0fca9c10",
        "_uuid": "ea25a62be1874a05de4982bd6b4cefe7fd0a1840",
        "trusted": false
      },
      "cell_type": "code",
      "source": "",
      "execution_count": null,
      "outputs": []
    }
  ],
  "metadata": {
    "language_info": {
      "nbconvert_exporter": "python",
      "pygments_lexer": "ipython3",
      "file_extension": ".py",
      "name": "python",
      "version": "3.6.3",
      "codemirror_mode": {
        "version": 3,
        "name": "ipython"
      },
      "mimetype": "text/x-python"
    },
    "kernelspec": {
      "display_name": "Python 3",
      "language": "python",
      "name": "python3"
    }
  },
  "nbformat": 4,
  "nbformat_minor": 1
}